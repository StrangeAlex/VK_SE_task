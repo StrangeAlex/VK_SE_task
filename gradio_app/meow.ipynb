{
 "cells": [
  {
   "cell_type": "code",
   "id": "initial_id",
   "metadata": {
    "collapsed": true,
    "ExecuteTime": {
     "end_time": "2025-10-10T17:51:56.396968Z",
     "start_time": "2025-10-10T17:51:54.286386Z"
    }
   },
   "source": "!conda env list",
   "outputs": [
    {
     "name": "stdout",
     "output_type": "stream",
     "text": [
      "# conda environments:\n",
      "#\n",
      "base                  *  C:\\Users\\szabu\\anaconda3\n",
      "emo_classifier           C:\\Users\\szabu\\anaconda3\\envs\\emo_classifier\n",
      "mp-senet                 C:\\Users\\szabu\\anaconda3\\envs\\mp-senet\n",
      "pythonProject1           C:\\Users\\szabu\\anaconda3\\envs\\pythonProject1\n",
      "torch_env                C:\\Users\\szabu\\anaconda3\\envs\\torch_env\n",
      "\n"
     ]
    }
   ],
   "execution_count": 1
  },
  {
   "metadata": {},
   "cell_type": "code",
   "outputs": [],
   "execution_count": null,
   "source": "",
   "id": "1624c181eb1d24e0"
  }
 ],
 "metadata": {
  "kernelspec": {
   "display_name": "Python 3",
   "language": "python",
   "name": "python3"
  },
  "language_info": {
   "codemirror_mode": {
    "name": "ipython",
    "version": 2
   },
   "file_extension": ".py",
   "mimetype": "text/x-python",
   "name": "python",
   "nbconvert_exporter": "python",
   "pygments_lexer": "ipython2",
   "version": "2.7.6"
  }
 },
 "nbformat": 4,
 "nbformat_minor": 5
}
